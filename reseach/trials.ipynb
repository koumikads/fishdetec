{
 "cells": [
  {
   "cell_type": "code",
   "execution_count": 1,
   "id": "initial_id",
   "metadata": {
    "collapsed": true,
    "ExecuteTime": {
     "end_time": "2023-10-08T11:38:58.822910600Z",
     "start_time": "2023-10-08T11:38:55.437286700Z"
    }
   },
   "outputs": [],
   "source": [
    "import gdown"
   ]
  },
  {
   "cell_type": "code",
   "execution_count": 2,
   "outputs": [],
   "source": [
    "import os"
   ],
   "metadata": {
    "collapsed": false,
    "ExecuteTime": {
     "end_time": "2023-10-08T11:39:15.503053400Z",
     "start_time": "2023-10-08T11:39:15.438447900Z"
    }
   },
   "id": "aec665ce53e13de1"
  },
  {
   "cell_type": "code",
   "execution_count": 3,
   "outputs": [],
   "source": [
    "os.chdir(\"../\")"
   ],
   "metadata": {
    "collapsed": false,
    "ExecuteTime": {
     "end_time": "2023-10-08T11:39:36.672211800Z",
     "start_time": "2023-10-08T11:39:36.621394900Z"
    }
   },
   "id": "5694ea01e155ab4c"
  },
  {
   "cell_type": "code",
   "execution_count": 4,
   "outputs": [
    {
     "data": {
      "text/plain": "'C:\\\\Users\\\\kadija\\\\PycharmProjects\\\\fishdetec'"
     },
     "execution_count": 4,
     "metadata": {},
     "output_type": "execute_result"
    }
   ],
   "source": [
    "%pwd"
   ],
   "metadata": {
    "collapsed": false,
    "ExecuteTime": {
     "end_time": "2023-10-08T11:39:54.535728Z",
     "start_time": "2023-10-08T11:39:54.164875700Z"
    }
   },
   "id": "422a76d0f0502de9"
  },
  {
   "cell_type": "code",
   "execution_count": 5,
   "outputs": [],
   "source": [
    "url = \"https://drive.google.com/file/d/197Z8QUTjUkG8hKGN6li1eiXLZyQLqGY_/view?usp=sharing\""
   ],
   "metadata": {
    "collapsed": false,
    "ExecuteTime": {
     "end_time": "2023-10-08T11:50:25.109464700Z",
     "start_time": "2023-10-08T11:50:25.107141900Z"
    }
   },
   "id": "2246ad2c5147deea"
  },
  {
   "cell_type": "code",
   "execution_count": 6,
   "outputs": [
    {
     "data": {
      "text/plain": "'197Z8QUTjUkG8hKGN6li1eiXLZyQLqGY_'"
     },
     "execution_count": 6,
     "metadata": {},
     "output_type": "execute_result"
    }
   ],
   "source": [
    "file_id = url.split(\"/\")[-2]\n",
    "file_id"
   ],
   "metadata": {
    "collapsed": false,
    "ExecuteTime": {
     "end_time": "2023-10-08T11:50:56.229334800Z",
     "start_time": "2023-10-08T11:50:55.813293500Z"
    }
   },
   "id": "e278ee3b680cf915"
  },
  {
   "cell_type": "code",
   "execution_count": 7,
   "outputs": [
    {
     "name": "stderr",
     "output_type": "stream",
     "text": [
      "Downloading...\n",
      "From (uriginal): https://drive.google.com/uc?/export=download&id=197Z8QUTjUkG8hKGN6li1eiXLZyQLqGY_\n",
      "From (redirected): https://drive.google.com/uc?/export=download&id=197Z8QUTjUkG8hKGN6li1eiXLZyQLqGY_&confirm=t&uuid=cdf335c0-cfd7-41be-99b9-39acd778952f\n",
      "To: C:\\Users\\kadija\\PycharmProjects\\fishdetec\\data\\mydata.zip\n",
      "100%|██████████| 59.1M/59.1M [01:16<00:00, 770kB/s] \n"
     ]
    },
    {
     "data": {
      "text/plain": "'data/mydata.zip'"
     },
     "execution_count": 7,
     "metadata": {},
     "output_type": "execute_result"
    }
   ],
   "source": [
    "prefix = 'https://drive.google.com/uc?/export=download&id='\n",
    "gdown.download(prefix+file_id, \"data/mydata.zip\")"
   ],
   "metadata": {
    "collapsed": false,
    "ExecuteTime": {
     "end_time": "2023-10-08T11:53:07.436164400Z",
     "start_time": "2023-10-08T11:51:40.498709300Z"
    }
   },
   "id": "2c837e55edf17044"
  },
  {
   "cell_type": "code",
   "execution_count": null,
   "outputs": [],
   "source": [],
   "metadata": {
    "collapsed": false
   },
   "id": "e416b1a11fefb86b"
  }
 ],
 "metadata": {
  "kernelspec": {
   "display_name": "Python 3",
   "language": "python",
   "name": "python3"
  },
  "language_info": {
   "codemirror_mode": {
    "name": "ipython",
    "version": 2
   },
   "file_extension": ".py",
   "mimetype": "text/x-python",
   "name": "python",
   "nbconvert_exporter": "python",
   "pygments_lexer": "ipython2",
   "version": "2.7.6"
  }
 },
 "nbformat": 4,
 "nbformat_minor": 5
}
